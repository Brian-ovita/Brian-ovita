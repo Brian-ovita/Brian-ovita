{
  "nbformat": 4,
  "nbformat_minor": 0,
  "metadata": {
    "colab": {
      "name": "TextClassificationAccidentData.ipynb",
      "provenance": [],
      "authorship_tag": "ABX9TyO2o2rWzTkpZp1PuDvGQV2T",
      "include_colab_link": true
    },
    "kernelspec": {
      "name": "python3",
      "display_name": "Python 3"
    },
    "language_info": {
      "name": "python"
    }
  },
  "cells": [
    {
      "cell_type": "markdown",
      "metadata": {
        "id": "view-in-github",
        "colab_type": "text"
      },
      "source": [
        "<a href=\"https://colab.research.google.com/github/Brian-ovita/Brian-ovita/blob/main/TextClassificationAccidentData.ipynb\" target=\"_parent\"><img src=\"https://colab.research.google.com/assets/colab-badge.svg\" alt=\"Open In Colab\"/></a>"
      ]
    },
    {
      "cell_type": "markdown",
      "source": [
        "Load the required modules for this analysis: Text classification of accidents data to predict gender using Tensorflow (Keras)"
      ],
      "metadata": {
        "id": "JEt5HAyG3ht3"
      }
    },
    {
      "cell_type": "code",
      "execution_count": 1,
      "metadata": {
        "id": "mrLsg422tXPm"
      },
      "outputs": [],
      "source": [
        "import pandas as pd\n",
        "import numpy as np\n",
        "import matplotlib.pyplot as plt\n",
        "\n",
        "import tensorflow as tf\n",
        "import tensorflow_hub as hub"
      ]
    },
    {
      "cell_type": "markdown",
      "source": [
        "Use pandas to read in the relevant dataset"
      ],
      "metadata": {
        "id": "QHs9ybcX3g6Q"
      }
    },
    {
      "cell_type": "code",
      "source": [
        "df = pd.read_csv(\"Accidents Data.csv\")"
      ],
      "metadata": {
        "id": "Xj3wDECn3RIZ"
      },
      "execution_count": 2,
      "outputs": []
    },
    {
      "cell_type": "code",
      "source": [
        "df.head()"
      ],
      "metadata": {
        "colab": {
          "base_uri": "https://localhost:8080/",
          "height": 444
        },
        "id": "i3Takn6R38Gv",
        "outputId": "cb56a079-8038-42cd-9793-ba10e028a062"
      },
      "execution_count": 3,
      "outputs": [
        {
          "output_type": "execute_result",
          "data": {
            "text/plain": [
              "   Unnamed: 0      date        day time_24_hours   county            road  \\\n",
              "0           1  1/2/2019  WEDNESDAY           550    SIAYA  SIAYA RANGALLA   \n",
              "1           2  1/3/2019   THURSDAY           450   KIAMBU   BOSTON QUARRY   \n",
              "2           3  1/3/2019   THURSDAY          1230  KERICHO  KERICHO NAKURU   \n",
              "3           4  1/8/2019    TUESDAY          1430  MURANGA   KENOL-MURANGA   \n",
              "4           5  1/9/2019  WEDNESDAY       UNKNOWN  KERICHO   KERICHO SOTIK   \n",
              "\n",
              "              place       type_of_vehicle  \\\n",
              "0     RANGALLA AREA               PRIVATE   \n",
              "1      NDARUGO AREA            COMMERCIAL   \n",
              "2      COMPLEX AREA  COMMERCIAL & PRIVATE   \n",
              "3      KWA MUGURUKI  COMMERCIAL & PRIVATE   \n",
              "4  KENYA POWER AREA               PRIVATE   \n",
              "\n",
              "                              brief_accident_details gender age  weekend  \n",
              "0        THE VEHICLE LOST CONTROL AND HIT A PAVEMENT      M   A  Weekday  \n",
              "1     THE VEHICLE LOST CONTROL HITTING THE PERIMETER      M  35  Weekday  \n",
              "2                                  HEAD ON COLLISION      M   A  Weekday  \n",
              "3             THE LORRY LOST CONTROL AND OVERTURNED      M    A  Weekday  \n",
              "4  THE VEHICLE LOST CONTROL AND ROLLED SEVERAL TIMES      M  45  Weekday  "
            ],
            "text/html": [
              "\n",
              "  <div id=\"df-ef0a816c-4ecf-48d8-884f-32cdb69dc125\">\n",
              "    <div class=\"colab-df-container\">\n",
              "      <div>\n",
              "<style scoped>\n",
              "    .dataframe tbody tr th:only-of-type {\n",
              "        vertical-align: middle;\n",
              "    }\n",
              "\n",
              "    .dataframe tbody tr th {\n",
              "        vertical-align: top;\n",
              "    }\n",
              "\n",
              "    .dataframe thead th {\n",
              "        text-align: right;\n",
              "    }\n",
              "</style>\n",
              "<table border=\"1\" class=\"dataframe\">\n",
              "  <thead>\n",
              "    <tr style=\"text-align: right;\">\n",
              "      <th></th>\n",
              "      <th>Unnamed: 0</th>\n",
              "      <th>date</th>\n",
              "      <th>day</th>\n",
              "      <th>time_24_hours</th>\n",
              "      <th>county</th>\n",
              "      <th>road</th>\n",
              "      <th>place</th>\n",
              "      <th>type_of_vehicle</th>\n",
              "      <th>brief_accident_details</th>\n",
              "      <th>gender</th>\n",
              "      <th>age</th>\n",
              "      <th>weekend</th>\n",
              "    </tr>\n",
              "  </thead>\n",
              "  <tbody>\n",
              "    <tr>\n",
              "      <th>0</th>\n",
              "      <td>1</td>\n",
              "      <td>1/2/2019</td>\n",
              "      <td>WEDNESDAY</td>\n",
              "      <td>550</td>\n",
              "      <td>SIAYA</td>\n",
              "      <td>SIAYA RANGALLA</td>\n",
              "      <td>RANGALLA AREA</td>\n",
              "      <td>PRIVATE</td>\n",
              "      <td>THE VEHICLE LOST CONTROL AND HIT A PAVEMENT</td>\n",
              "      <td>M</td>\n",
              "      <td>A</td>\n",
              "      <td>Weekday</td>\n",
              "    </tr>\n",
              "    <tr>\n",
              "      <th>1</th>\n",
              "      <td>2</td>\n",
              "      <td>1/3/2019</td>\n",
              "      <td>THURSDAY</td>\n",
              "      <td>450</td>\n",
              "      <td>KIAMBU</td>\n",
              "      <td>BOSTON QUARRY</td>\n",
              "      <td>NDARUGO AREA</td>\n",
              "      <td>COMMERCIAL</td>\n",
              "      <td>THE VEHICLE LOST CONTROL HITTING THE PERIMETER</td>\n",
              "      <td>M</td>\n",
              "      <td>35</td>\n",
              "      <td>Weekday</td>\n",
              "    </tr>\n",
              "    <tr>\n",
              "      <th>2</th>\n",
              "      <td>3</td>\n",
              "      <td>1/3/2019</td>\n",
              "      <td>THURSDAY</td>\n",
              "      <td>1230</td>\n",
              "      <td>KERICHO</td>\n",
              "      <td>KERICHO NAKURU</td>\n",
              "      <td>COMPLEX AREA</td>\n",
              "      <td>COMMERCIAL &amp; PRIVATE</td>\n",
              "      <td>HEAD ON COLLISION</td>\n",
              "      <td>M</td>\n",
              "      <td>A</td>\n",
              "      <td>Weekday</td>\n",
              "    </tr>\n",
              "    <tr>\n",
              "      <th>3</th>\n",
              "      <td>4</td>\n",
              "      <td>1/8/2019</td>\n",
              "      <td>TUESDAY</td>\n",
              "      <td>1430</td>\n",
              "      <td>MURANGA</td>\n",
              "      <td>KENOL-MURANGA</td>\n",
              "      <td>KWA MUGURUKI</td>\n",
              "      <td>COMMERCIAL &amp; PRIVATE</td>\n",
              "      <td>THE LORRY LOST CONTROL AND OVERTURNED</td>\n",
              "      <td>M</td>\n",
              "      <td>A</td>\n",
              "      <td>Weekday</td>\n",
              "    </tr>\n",
              "    <tr>\n",
              "      <th>4</th>\n",
              "      <td>5</td>\n",
              "      <td>1/9/2019</td>\n",
              "      <td>WEDNESDAY</td>\n",
              "      <td>UNKNOWN</td>\n",
              "      <td>KERICHO</td>\n",
              "      <td>KERICHO SOTIK</td>\n",
              "      <td>KENYA POWER AREA</td>\n",
              "      <td>PRIVATE</td>\n",
              "      <td>THE VEHICLE LOST CONTROL AND ROLLED SEVERAL TIMES</td>\n",
              "      <td>M</td>\n",
              "      <td>45</td>\n",
              "      <td>Weekday</td>\n",
              "    </tr>\n",
              "  </tbody>\n",
              "</table>\n",
              "</div>\n",
              "      <button class=\"colab-df-convert\" onclick=\"convertToInteractive('df-ef0a816c-4ecf-48d8-884f-32cdb69dc125')\"\n",
              "              title=\"Convert this dataframe to an interactive table.\"\n",
              "              style=\"display:none;\">\n",
              "        \n",
              "  <svg xmlns=\"http://www.w3.org/2000/svg\" height=\"24px\"viewBox=\"0 0 24 24\"\n",
              "       width=\"24px\">\n",
              "    <path d=\"M0 0h24v24H0V0z\" fill=\"none\"/>\n",
              "    <path d=\"M18.56 5.44l.94 2.06.94-2.06 2.06-.94-2.06-.94-.94-2.06-.94 2.06-2.06.94zm-11 1L8.5 8.5l.94-2.06 2.06-.94-2.06-.94L8.5 2.5l-.94 2.06-2.06.94zm10 10l.94 2.06.94-2.06 2.06-.94-2.06-.94-.94-2.06-.94 2.06-2.06.94z\"/><path d=\"M17.41 7.96l-1.37-1.37c-.4-.4-.92-.59-1.43-.59-.52 0-1.04.2-1.43.59L10.3 9.45l-7.72 7.72c-.78.78-.78 2.05 0 2.83L4 21.41c.39.39.9.59 1.41.59.51 0 1.02-.2 1.41-.59l7.78-7.78 2.81-2.81c.8-.78.8-2.07 0-2.86zM5.41 20L4 18.59l7.72-7.72 1.47 1.35L5.41 20z\"/>\n",
              "  </svg>\n",
              "      </button>\n",
              "      \n",
              "  <style>\n",
              "    .colab-df-container {\n",
              "      display:flex;\n",
              "      flex-wrap:wrap;\n",
              "      gap: 12px;\n",
              "    }\n",
              "\n",
              "    .colab-df-convert {\n",
              "      background-color: #E8F0FE;\n",
              "      border: none;\n",
              "      border-radius: 50%;\n",
              "      cursor: pointer;\n",
              "      display: none;\n",
              "      fill: #1967D2;\n",
              "      height: 32px;\n",
              "      padding: 0 0 0 0;\n",
              "      width: 32px;\n",
              "    }\n",
              "\n",
              "    .colab-df-convert:hover {\n",
              "      background-color: #E2EBFA;\n",
              "      box-shadow: 0px 1px 2px rgba(60, 64, 67, 0.3), 0px 1px 3px 1px rgba(60, 64, 67, 0.15);\n",
              "      fill: #174EA6;\n",
              "    }\n",
              "\n",
              "    [theme=dark] .colab-df-convert {\n",
              "      background-color: #3B4455;\n",
              "      fill: #D2E3FC;\n",
              "    }\n",
              "\n",
              "    [theme=dark] .colab-df-convert:hover {\n",
              "      background-color: #434B5C;\n",
              "      box-shadow: 0px 1px 3px 1px rgba(0, 0, 0, 0.15);\n",
              "      filter: drop-shadow(0px 1px 2px rgba(0, 0, 0, 0.3));\n",
              "      fill: #FFFFFF;\n",
              "    }\n",
              "  </style>\n",
              "\n",
              "      <script>\n",
              "        const buttonEl =\n",
              "          document.querySelector('#df-ef0a816c-4ecf-48d8-884f-32cdb69dc125 button.colab-df-convert');\n",
              "        buttonEl.style.display =\n",
              "          google.colab.kernel.accessAllowed ? 'block' : 'none';\n",
              "\n",
              "        async function convertToInteractive(key) {\n",
              "          const element = document.querySelector('#df-ef0a816c-4ecf-48d8-884f-32cdb69dc125');\n",
              "          const dataTable =\n",
              "            await google.colab.kernel.invokeFunction('convertToInteractive',\n",
              "                                                     [key], {});\n",
              "          if (!dataTable) return;\n",
              "\n",
              "          const docLinkHtml = 'Like what you see? Visit the ' +\n",
              "            '<a target=\"_blank\" href=https://colab.research.google.com/notebooks/data_table.ipynb>data table notebook</a>'\n",
              "            + ' to learn more about interactive tables.';\n",
              "          element.innerHTML = '';\n",
              "          dataTable['output_type'] = 'display_data';\n",
              "          await google.colab.output.renderOutput(dataTable, element);\n",
              "          const docLink = document.createElement('div');\n",
              "          docLink.innerHTML = docLinkHtml;\n",
              "          element.appendChild(docLink);\n",
              "        }\n",
              "      </script>\n",
              "    </div>\n",
              "  </div>\n",
              "  "
            ]
          },
          "metadata": {},
          "execution_count": 3
        }
      ]
    },
    {
      "cell_type": "markdown",
      "source": [
        "Drop any null values in the relevant columns. `brief_accident_details` and `gender`"
      ],
      "metadata": {
        "id": "71WS5uFV4F6n"
      }
    },
    {
      "cell_type": "code",
      "source": [
        "df = df.dropna(subset = ['brief_accident_details','gender'])"
      ],
      "metadata": {
        "id": "mX8BHUJR3-Cz"
      },
      "execution_count": 4,
      "outputs": []
    },
    {
      "cell_type": "markdown",
      "source": [
        "Create a binary label for the gender column. And select the columns to be used."
      ],
      "metadata": {
        "id": "ErCuy8u84zrE"
      }
    },
    {
      "cell_type": "code",
      "source": [
        "df['label'] = (df.gender=='M').astype(int)\n",
        "df = df[['brief_accident_details','label']]"
      ],
      "metadata": {
        "id": "EY7Zga234l64"
      },
      "execution_count": 5,
      "outputs": []
    },
    {
      "cell_type": "markdown",
      "source": [
        "Split the data into training, validation and testing set"
      ],
      "metadata": {
        "id": "SmVZLJZC6dg5"
      }
    },
    {
      "cell_type": "code",
      "source": [
        "train, val, test = np.split(df.sample(frac=1), [int(0.8*len(df)),int(0.9*len(df))])\n",
        "# check the lengths of the training, testing and validation sets\n",
        "len(train),len(val),len(test)"
      ],
      "metadata": {
        "colab": {
          "base_uri": "https://localhost:8080/"
        },
        "id": "zGkkmmDX6Oux",
        "outputId": "c3a5554b-c549-4c18-a93b-856732eaf2b2"
      },
      "execution_count": 6,
      "outputs": [
        {
          "output_type": "execute_result",
          "data": {
            "text/plain": [
              "(880, 110, 111)"
            ]
          },
          "metadata": {},
          "execution_count": 6
        }
      ]
    },
    {
      "cell_type": "code",
      "source": [
        "## from tensorflow \n",
        "def df_to_dataset(dataframe, shuffle=True, batch_size=100):\n",
        "  df = dataframe.copy()\n",
        "  labels = df.pop('label')\n",
        "  df = df['brief_accident_details']\n",
        "  ds = tf.data.Dataset.from_tensor_slices((df, labels))\n",
        "  if shuffle:\n",
        "    ds = ds.shuffle(buffer_size=len(dataframe))\n",
        "  ds = ds.batch(batch_size)\n",
        "  ds = ds.prefetch(tf.data.AUTOTUNE)\n",
        "  return ds"
      ],
      "metadata": {
        "id": "EANYYEw37Umb"
      },
      "execution_count": 7,
      "outputs": []
    },
    {
      "cell_type": "markdown",
      "source": [
        "Use the function above; check out its documentation for further detail."
      ],
      "metadata": {
        "id": "KwTEfAoS8Vg3"
      }
    },
    {
      "cell_type": "code",
      "source": [
        "train_data = df_to_dataset(train)\n",
        "valid_data = df_to_dataset(val)\n",
        "test_data = df_to_dataset(test)"
      ],
      "metadata": {
        "id": "MaUzkw518Cqh"
      },
      "execution_count": 8,
      "outputs": []
    },
    {
      "cell_type": "markdown",
      "source": [
        "Model and Embedding"
      ],
      "metadata": {
        "id": "bUGcEKkO9uA6"
      }
    },
    {
      "cell_type": "markdown",
      "source": [
        "Embedding from tensorflowhub"
      ],
      "metadata": {
        "id": "if0Pt9uq9wGV"
      }
    },
    {
      "cell_type": "code",
      "source": [
        "embedding = \"https://tfhub.dev/google/nnlm-en-dim50/2\"\n",
        "hub_layer = hub.KerasLayer(embedding, dtype=tf.string, trainable=True)"
      ],
      "metadata": {
        "id": "35lcc_xm8Iaj"
      },
      "execution_count": 9,
      "outputs": []
    },
    {
      "cell_type": "code",
      "source": [
        "hub_layer(list(train_data)[0][0])"
      ],
      "metadata": {
        "colab": {
          "base_uri": "https://localhost:8080/"
        },
        "id": "_ZR7Bl5X8O8e",
        "outputId": "904b8d47-5f14-4737-e241-d19eb50f2761"
      },
      "execution_count": 10,
      "outputs": [
        {
          "output_type": "execute_result",
          "data": {
            "text/plain": [
              "<tf.Tensor: shape=(100, 50), dtype=float32, numpy=\n",
              "array([[ 0.02332125, -0.12362385, -0.65827215, ...,  0.03107429,\n",
              "         0.02187134,  0.6050054 ],\n",
              "       [ 0.11780404, -0.2323642 , -0.4872356 , ...,  0.00513672,\n",
              "        -0.00733351,  0.34575745],\n",
              "       [ 0.07807658, -0.24199101, -0.10317601, ..., -0.01636766,\n",
              "         0.04145914,  0.26343694],\n",
              "       ...,\n",
              "       [ 0.0746401 , -0.14452197, -0.11350368, ...,  0.02377193,\n",
              "         0.07130749,  0.27194247],\n",
              "       [ 0.6924    , -0.15102494, -0.8189873 , ...,  0.28731516,\n",
              "        -0.23022985,  0.78112453],\n",
              "       [ 0.5381828 , -0.09843788, -1.1147205 , ...,  0.32241982,\n",
              "        -0.31038147,  1.0588423 ]], dtype=float32)>"
            ]
          },
          "metadata": {},
          "execution_count": 10
        }
      ]
    },
    {
      "cell_type": "markdown",
      "source": [
        "Create the model"
      ],
      "metadata": {
        "id": "wRo8-MMg8kKU"
      }
    },
    {
      "cell_type": "code",
      "source": [
        "model = tf.keras.Sequential()\n",
        "model.add(hub_layer)\n",
        "model.add(tf.keras.layers.Dense(16,activation='relu'))\n",
        "model.add(tf.keras.layers.Dropout(0.4))\n",
        "model.add(tf.keras.layers.Dense(16,activation='relu'))\n",
        "model.add(tf.keras.layers.Dropout(0.4))\n",
        "model.add(tf.keras.layers.Dense(1,activation='sigmoid'))"
      ],
      "metadata": {
        "id": "JyRhRN788TGT"
      },
      "execution_count": 11,
      "outputs": []
    },
    {
      "cell_type": "code",
      "source": [
        "model.compile(optimizer=tf.keras.optimizers.Adam(learning_rate=0.001),\n",
        "              loss=tf.keras.losses.BinaryFocalCrossentropy(),\n",
        "              metrics=['accuracy'])"
      ],
      "metadata": {
        "id": "zaNt0KL38l_-"
      },
      "execution_count": 12,
      "outputs": []
    },
    {
      "cell_type": "code",
      "source": [
        "model.evaluate(train_data)"
      ],
      "metadata": {
        "colab": {
          "base_uri": "https://localhost:8080/"
        },
        "id": "oJHLTBcF8r1m",
        "outputId": "be1f41d8-42fd-43f4-a973-3b7f015af082"
      },
      "execution_count": 13,
      "outputs": [
        {
          "output_type": "stream",
          "name": "stdout",
          "text": [
            "9/9 [==============================] - 2s 5ms/step - loss: 0.1403 - accuracy: 0.9091\n"
          ]
        },
        {
          "output_type": "execute_result",
          "data": {
            "text/plain": [
              "[0.1403152495622635, 0.9090909361839294]"
            ]
          },
          "metadata": {},
          "execution_count": 13
        }
      ]
    },
    {
      "cell_type": "code",
      "source": [
        "model.evaluate(valid_data)"
      ],
      "metadata": {
        "colab": {
          "base_uri": "https://localhost:8080/"
        },
        "id": "supuGZjw8u4N",
        "outputId": "907574d6-7951-4cec-d0f6-5baf2a39ca50"
      },
      "execution_count": 14,
      "outputs": [
        {
          "output_type": "stream",
          "name": "stdout",
          "text": [
            "2/2 [==============================] - 0s 5ms/step - loss: 0.1442 - accuracy: 0.8727\n"
          ]
        },
        {
          "output_type": "execute_result",
          "data": {
            "text/plain": [
              "[0.14415055513381958, 0.8727272748947144]"
            ]
          },
          "metadata": {},
          "execution_count": 14
        }
      ]
    },
    {
      "cell_type": "code",
      "source": [
        "history = model.fit(train_data, epochs=10, validation_data= valid_data)"
      ],
      "metadata": {
        "colab": {
          "base_uri": "https://localhost:8080/"
        },
        "id": "xSCYwDqX81ta",
        "outputId": "3b8d95e9-ef2a-4c43-e76d-11137d68cbf6"
      },
      "execution_count": 15,
      "outputs": [
        {
          "output_type": "stream",
          "name": "stdout",
          "text": [
            "Epoch 1/10\n",
            "9/9 [==============================] - 6s 549ms/step - loss: 0.1345 - accuracy: 0.7591 - val_loss: 0.1066 - val_accuracy: 0.9182\n",
            "Epoch 2/10\n",
            "9/9 [==============================] - 5s 517ms/step - loss: 0.1201 - accuracy: 0.8489 - val_loss: 0.0909 - val_accuracy: 0.9091\n",
            "Epoch 3/10\n",
            "9/9 [==============================] - 5s 520ms/step - loss: 0.1067 - accuracy: 0.9091 - val_loss: 0.0836 - val_accuracy: 0.9091\n",
            "Epoch 4/10\n",
            "9/9 [==============================] - 5s 511ms/step - loss: 0.0925 - accuracy: 0.9239 - val_loss: 0.0808 - val_accuracy: 0.9091\n",
            "Epoch 5/10\n",
            "9/9 [==============================] - 5s 522ms/step - loss: 0.0955 - accuracy: 0.9261 - val_loss: 0.0803 - val_accuracy: 0.9091\n",
            "Epoch 6/10\n",
            "9/9 [==============================] - 5s 522ms/step - loss: 0.0841 - accuracy: 0.9330 - val_loss: 0.0798 - val_accuracy: 0.9091\n",
            "Epoch 7/10\n",
            "9/9 [==============================] - 5s 515ms/step - loss: 0.0744 - accuracy: 0.9364 - val_loss: 0.0796 - val_accuracy: 0.9091\n",
            "Epoch 8/10\n",
            "9/9 [==============================] - 5s 518ms/step - loss: 0.0811 - accuracy: 0.9295 - val_loss: 0.0793 - val_accuracy: 0.9091\n",
            "Epoch 9/10\n",
            "9/9 [==============================] - 5s 515ms/step - loss: 0.0823 - accuracy: 0.9364 - val_loss: 0.0792 - val_accuracy: 0.9091\n",
            "Epoch 10/10\n",
            "9/9 [==============================] - 5s 517ms/step - loss: 0.0776 - accuracy: 0.9398 - val_loss: 0.0791 - val_accuracy: 0.9091\n"
          ]
        }
      ]
    },
    {
      "cell_type": "markdown",
      "source": [
        "Model Accuracy Plot"
      ],
      "metadata": {
        "id": "kZpTJBux93Te"
      }
    },
    {
      "cell_type": "code",
      "source": [
        "plt.plot(history.history['accuracy'], label='Training accuracy')\n",
        "plt.plot(history.history['val_accuracy'], label='Validation accuracy')\n",
        "plt.title('Accuracy of model')\n",
        "plt.ylabel('Accuracy')\n",
        "plt.xlabel('Epoch')\n",
        "plt.legend()\n",
        "plt.show()"
      ],
      "metadata": {
        "colab": {
          "base_uri": "https://localhost:8080/",
          "height": 295
        },
        "id": "k_EBa4HR873B",
        "outputId": "377d34ee-3e57-4949-91c6-b7695f63520e"
      },
      "execution_count": 16,
      "outputs": [
        {
          "output_type": "display_data",
          "data": {
            "text/plain": [
              "<Figure size 432x288 with 1 Axes>"
            ],
            "image/png": "[encoded data removed]"
          },
          "metadata": {
            "needs_background": "light"
          }
        }
      ]
    },
    {
      "cell_type": "markdown",
      "source": [
        "Model Loss Plot"
      ],
      "metadata": {
        "id": "_CPlUz-O98OL"
      }
    },
    {
      "cell_type": "code",
      "source": [
        "plt.plot(history.history['loss'], label='Training loss')\n",
        "plt.plot(history.history['val_loss'], label='Validation loss')\n",
        "plt.title('loss of model')\n",
        "plt.ylabel('loss')\n",
        "plt.xlabel('Epoch')\n",
        "plt.legend()\n",
        "plt.show()"
      ],
      "metadata": {
        "colab": {
          "base_uri": "https://localhost:8080/",
          "height": 295
        },
        "id": "hGlH00mI9Wdh",
        "outputId": "38edb436-4cd2-4970-cc4b-17899b1f2ce8"
      },
      "execution_count": 17,
      "outputs": [
        {
          "output_type": "display_data",
          "data": {
            "text/plain": [
              "<Figure size 432x288 with 1 Axes>"
            ],
            "image/png": "[encoded data removed]"
          },
          "metadata": {
            "needs_background": "light"
          }
        }
      ]
    }
  ]
}